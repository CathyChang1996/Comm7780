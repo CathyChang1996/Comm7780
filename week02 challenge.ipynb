{
 "cells": [
  {
   "cell_type": "code",
   "execution_count": 4,
   "metadata": {},
   "outputs": [
    {
     "name": "stdout",
     "output_type": "stream",
     "text": [
      "133970.0\n"
     ]
    }
   ],
   "source": [
    "FIXED_COST = 50000\n",
    "basic_visitors = 50000\n",
    "member_fee = 15\n",
    "convert_rate = 0.1\n",
    "ad_revenue = 0.8\n",
    "cloud_server_fee = 0.001\n",
    "visitors = float(80000)\n",
    "revenue = (ad_revenue*visitors + convert_rate*visitors*member_fee)\n",
    "if visitors < basic_visitors:\n",
    "    total_cost = FIXED_COST\n",
    "else:\n",
    "    total_cost = FIXED_COST + cloud_server_fee*(visitors - basic_visitors)\n",
    "net_income = revenue - total_cost\n",
    "print(net_income)\n"
   ]
  },
  {
   "cell_type": "code",
   "execution_count": null,
   "metadata": {},
   "outputs": [],
   "source": []
  }
 ],
 "metadata": {
  "kernelspec": {
   "display_name": "Python 3",
   "language": "python",
   "name": "python3"
  },
  "language_info": {
   "codemirror_mode": {
    "name": "ipython",
    "version": 3
   },
   "file_extension": ".py",
   "mimetype": "text/x-python",
   "name": "python",
   "nbconvert_exporter": "python",
   "pygments_lexer": "ipython3",
   "version": "3.7.0"
  }
 },
 "nbformat": 4,
 "nbformat_minor": 2
}
