{
 "cells": [
  {
   "cell_type": "code",
   "execution_count": 7,
   "metadata": {
    "scrolled": true
   },
   "outputs": [
    {
     "name": "stdout",
     "output_type": "stream",
     "text": [
      "distance: 8076.407386140752\n",
      "distance: 6377.766810387196\n",
      "distance: 5116.471399210486\n",
      "distance: 11482.379072930544\n",
      "distance: 9335.413885060316\n"
     ]
    }
   ],
   "source": [
    "import geopy\n",
    "from geopy.distance import great_circle\n",
    "place_A = [(40.4, -73.5), (49.2, -123), (59.2, 18), (-34.4, -58.2), (-31.5, -115.5)]\n",
    "place_B = (22.3, 114.2)\n",
    "\n",
    "for i in place_A:\n",
    "    print('distance: {}'.format(great_circle(i, place_B).miles))\n",
    "    \n",
    "    \n",
    "    \n",
    "    "
   ]
  },
  {
   "cell_type": "code",
   "execution_count": null,
   "metadata": {},
   "outputs": [],
   "source": []
  }
 ],
 "metadata": {
  "kernelspec": {
   "display_name": "Python 3",
   "language": "python",
   "name": "python3"
  },
  "language_info": {
   "codemirror_mode": {
    "name": "ipython",
    "version": 3
   },
   "file_extension": ".py",
   "mimetype": "text/x-python",
   "name": "python",
   "nbconvert_exporter": "python",
   "pygments_lexer": "ipython3",
   "version": "3.7.0"
  }
 },
 "nbformat": 4,
 "nbformat_minor": 2
}
