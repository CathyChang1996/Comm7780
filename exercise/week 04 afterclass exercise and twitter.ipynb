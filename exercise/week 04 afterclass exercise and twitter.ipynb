{
 "cells": [
  {
   "cell_type": "code",
   "execution_count": 6,
   "metadata": {
    "scrolled": false
   },
   "outputs": [],
   "source": [
    "import twitter\n",
    "import csv\n",
    "\n",
    "api = twitter.Api(consumer_key='Dh04Ti0NKiyORTpbd23RB6kSh',\n",
    "    consumer_secret='MMK4aXXxPQ2AK3sSUFDdTOeJAZGNKispHzhmRHQlfHi4hjZgip',\n",
    "    access_token_key='1039723863070859264-5880r7RyqWs9Z8FlMe4LOXzIgVS2O1',\n",
    "    access_token_secret='Yn4gsyYyJEi5gPz1XUt8wocUaaFiCQuBZ6z8FQ0aQphpz')\n",
    "\n",
    "api.url = 'https://api.twitter.com/1.1/search/tweets.json?q=typhoon%20Mangkhut&src=tyah'\n",
    "results = api.GetSearch( \n",
    "    term = 'TyphoonMangkhut',\n",
    "    raw_query = None, \n",
    "    geocode = None, \n",
    "    since_id = None, \n",
    "    max_id = None, \n",
    "    until = '2018-09-21', \n",
    "    since = '2018-08-15',\n",
    "    count = 100, \n",
    "    lang = 'en', \n",
    "    locale = None, \n",
    "    result_type = 'mixed', \n",
    "    include_entities = None,\n",
    "    return_json = False)\n",
    "len(results) \n",
    "type(results) \n",
    "\n",
    "with open('earthquake_comments.csv','w') as f:\n",
    "    writer = csv.writer(f)\n",
    "    header = ['Names','IDs','Time','Comments']\n",
    "    writer.writerow(header)\n",
    "    \n",
    "    for i in range(0,len(results)):\n",
    "        writer.writerow([results[i].user.screen_name, results[i].id, results[i].created_at, results[i].text])\n",
    "        \n",
    "\n",
    "\n",
    "    "
   ]
  },
  {
   "cell_type": "code",
   "execution_count": 16,
   "metadata": {},
   "outputs": [
    {
     "data": {
      "text/plain": [
       "{'type': 'Feature',\n",
       " 'properties': {'mag': 1.17,\n",
       "  'place': '15km E of Coso Junction, CA',\n",
       "  'time': 1483401488910,\n",
       "  'updated': 1486583476337,\n",
       "  'tz': -480,\n",
       "  'url': 'https://earthquake.usgs.gov/earthquakes/eventpage/ci37779344',\n",
       "  'detail': 'https://earthquake.usgs.gov/fdsnws/event/1/query?eventid=ci37779344&format=geojson',\n",
       "  'felt': None,\n",
       "  'cdi': None,\n",
       "  'mmi': None,\n",
       "  'alert': None,\n",
       "  'status': 'reviewed',\n",
       "  'tsunami': 0,\n",
       "  'sig': 21,\n",
       "  'net': 'ci',\n",
       "  'code': '37779344',\n",
       "  'ids': ',ci37779344,',\n",
       "  'sources': ',ci,',\n",
       "  'types': ',geoserve,nearby-cities,origin,phase-data,scitech-link,',\n",
       "  'nst': 14,\n",
       "  'dmin': 0.01617,\n",
       "  'rms': 0.16,\n",
       "  'gap': 61,\n",
       "  'magType': 'ml',\n",
       "  'type': 'earthquake',\n",
       "  'title': 'M 1.2 - 15km E of Coso Junction, CA'},\n",
       " 'geometry': {'type': 'Point', 'coordinates': [-117.7848333, 36.0283333, 1.6]},\n",
       " 'id': 'ci37779344'}"
      ]
     },
     "execution_count": 16,
     "metadata": {},
     "output_type": "execute_result"
    }
   ],
   "source": [
    "import requests\n",
    "\n",
    "url = 'https://earthquake.usgs.gov/fdsnws/event/1/query?format=geojson&starttime=2017-01-01&endtime=2017-01-03'\n",
    "r = requests.get(url)\n",
    "r.text\n",
    "\n",
    "import json\n",
    "json.loads(r.text)\n",
    "r.json()\n",
    "\n",
    "data = r.json()\n",
    "data\n",
    "\n",
    "tt = data['features'][0]\n",
    "tt"
   ]
  },
  {
   "cell_type": "code",
   "execution_count": 17,
   "metadata": {},
   "outputs": [],
   "source": [
    "myevents = []\n",
    "for tt in data['features']:\n",
    "        myevents.append([\n",
    "            tt['properties']['place'],\n",
    "            tt['properties']['time'], \n",
    "            tt['geometry']['coordinates'][0], \n",
    "            tt['geometry']['coordinates'][1]\n",
    "        ])\n",
    "        \n",
    "with open('earthquake.csv','w') as f:\n",
    "    writer = csv.writer(f)\n",
    "    header = ['Place','Time','Longitude','Latitude']\n",
    "    writer.writerow(header)\n",
    "    writer.writerows(myevents)\n",
    "    f.close()\n",
    "   "
   ]
  },
  {
   "cell_type": "code",
   "execution_count": null,
   "metadata": {},
   "outputs": [],
   "source": []
  }
 ],
 "metadata": {
  "kernelspec": {
   "display_name": "Python 3",
   "language": "python",
   "name": "python3"
  },
  "language_info": {
   "codemirror_mode": {
    "name": "ipython",
    "version": 3
   },
   "file_extension": ".py",
   "mimetype": "text/x-python",
   "name": "python",
   "nbconvert_exporter": "python",
   "pygments_lexer": "ipython3",
   "version": "3.7.0"
  }
 },
 "nbformat": 4,
 "nbformat_minor": 2
}
