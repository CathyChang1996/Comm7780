{
 "cells": [
  {
   "cell_type": "code",
   "execution_count": 1,
   "metadata": {
    "scrolled": false
   },
   "outputs": [],
   "source": [
    "from bs4 import BeautifulSoup\n",
    "import requests\n",
    "import csv\n",
    "r = requests.get('https://github.com/myersjustinc?tab=overview&from=2018-01-01&to=2018-12-31')\n",
    "html_str = r.text\n",
    "data = BeautifulSoup(html_str, \"html.parser\")\n",
    "my_rect = data.find_all('rect')\n",
    "my_rect\n",
    "overall = []\n",
    "for my_rect in my_rect:\n",
    "    contributions = my_rect['data-count']\n",
    "    dates = my_rect['data-date'] \n",
    "    overall.append((contributions,dates))\n",
    "    \n",
    "with open ('contributions.csv', 'w',newline='') as f:\n",
    "    writer = csv.writer(f)\n",
    "    header = ['Contributions', 'Dates']\n",
    "    \n",
    "    writer.writerow(header)\n",
    "    writer.writerows(overall)"
   ]
  },
  {
   "cell_type": "code",
   "execution_count": null,
   "metadata": {},
   "outputs": [],
   "source": [
    "from bs4 import BeautifulSoup\n",
    "import requests\n",
    "import csv\n",
    "\n",
    "def scrape_detailed contribution(contribution_url):\n",
    "    r = requests.get(article_url).text\n",
    "    data = BeautifulSoup(r,\"html.parser\")\n",
    "    my_rect = data.find_all('rect')\n",
    "    my_rect\n",
    "    overall = []\n",
    "    for my_rect in my_rect:\n",
    "        contributions = my_rect['data-count']\n",
    "        dates = my_rect['data-date'] \n",
    "        details = contribution_url\n",
    "        return dates,contributions,details\n",
    "    \n",
    "r = requests.get('https://github.com/myersjustinc?tab=overview&from=2018-01-01&to=2018-12-31')\n",
    "html_str = r.text\n",
    "data = BeautifulSoup(html_str, \"html.parser\")\n",
    "my_div = data.find_all('div', attr = {'class':\"d-inline-block col-8 css-truncate css-truncate-target lh-condensed\"})\n",
    "my_href = my_div.find_all('a', attr = 'href').text.strip()\n",
    "\n",
    "overall = []\n",
    "for my_rect in my_rect:\n",
    "    contributions = my_rect['data-count']\n",
    "    dates = my_rect['data-date'] \n",
    "    overall.append((contributions,dates))\n",
    "    \n",
    "with open ('contributions.csv', 'w',newline='') as f:\n",
    "    writer = csv.writer(f)\n",
    "    header = ['Contributions', 'Dates']\n",
    "    \n",
    "    writer.writerow(header)\n",
    "    writer.writerows(overall)"
   ]
  },
  {
   "cell_type": "code",
   "execution_count": null,
   "metadata": {},
   "outputs": [],
   "source": [
    "\n",
    "    \n"
   ]
  },
  {
   "cell_type": "code",
   "execution_count": null,
   "metadata": {},
   "outputs": [],
   "source": []
  },
  {
   "cell_type": "code",
   "execution_count": null,
   "metadata": {},
   "outputs": [],
   "source": [
    "\n"
   ]
  },
  {
   "cell_type": "code",
   "execution_count": null,
   "metadata": {},
   "outputs": [],
   "source": []
  }
 ],
 "metadata": {
  "kernelspec": {
   "display_name": "Python 3",
   "language": "python",
   "name": "python3"
  },
  "language_info": {
   "codemirror_mode": {
    "name": "ipython",
    "version": 3
   },
   "file_extension": ".py",
   "mimetype": "text/x-python",
   "name": "python",
   "nbconvert_exporter": "python",
   "pygments_lexer": "ipython3",
   "version": "3.7.0"
  }
 },
 "nbformat": 4,
 "nbformat_minor": 2
}
