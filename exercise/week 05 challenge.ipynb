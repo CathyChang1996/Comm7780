{
 "cells": [
  {
   "cell_type": "code",
   "execution_count": 1,
   "metadata": {
    "scrolled": false
   },
   "outputs": [],
   "source": [
    "from bs4 import BeautifulSoup\n",
    "import requests\n",
    "import csv\n",
    "r = requests.get('https://github.com/myersjustinc?tab=overview&from=2018-01-01&to=2018-12-31')\n",
    "html_str = r.text\n",
    "data = BeautifulSoup(html_str, \"html.parser\")\n",
    "my_rect = data.find_all('rect')\n",
    "my_rect\n",
    "overall = []\n",
    "for my_rect in my_rect:\n",
    "    contributions = my_rect['data-count']\n",
    "    dates = my_rect['data-date'] \n",
    "    overall.append((contributions,dates))\n",
    "    \n",
    "with open ('contributions.csv', 'w',newline='') as f:\n",
    "    writer = csv.writer(f)\n",
    "    header = ['Contributions', 'Dates']\n",
    "    \n",
    "    writer.writerow(header)\n",
    "    writer.writerows(overall)"
   ]
  },
  {
   "cell_type": "code",
   "execution_count": null,
   "metadata": {},
   "outputs": [],
   "source": [
    "from bs4 import BeautifulSoup\n",
    "import requests\n",
    "import csv\n",
    "\n",
    "def scrape_detailed contribution(contribution_url):\n",
    "    r = requests.get(article_url).text\n",
    "    data = BeautifulSoup(r,\"html.parser\")\n",
    "    my_rect = data.find_all('rect')\n",
    "    my_rect\n",
    "    overall = []\n",
    "    for my_rect in my_rect:\n",
    "        contributions = my_rect['data-count']\n",
    "        dates = my_rect['data-date'] \n",
    "        details = contribution_url\n",
    "        return dates,contributions,details\n",
    "    \n",
    "r = requests.get('https://github.com/myersjustinc?tab=overview&from=2018-01-01&to=2018-12-31')\n",
    "html_str = r.text\n",
    "data = BeautifulSoup(html_str, \"html.parser\")\n",
    "my_div = data.find_all('div', attr = {'class':\"d-inline-block col-8 css-truncate css-truncate-target lh-condensed\"})\n",
    "my_href = my_div.find_all('a', attr = 'href').text.strip()\n",
    "\n",
    "overall = []\n",
    "for my_rect in my_rect:\n",
    "    contributions = my_rect['data-count']\n",
    "    dates = my_rect['data-date'] \n",
    "    overall.append((contributions,dates))\n",
    "    \n",
    "with open ('contributions.csv', 'w',newline='') as f:\n",
    "    writer = csv.writer(f)\n",
    "    header = ['Contributions', 'Dates']\n",
    "    \n",
    "    writer.writerow(header)\n",
    "    writer.writerows(overall)"
   ]
  },
  {
   "cell_type": "code",
   "execution_count": 7,
   "metadata": {},
   "outputs": [
    {
     "name": "stdout",
     "output_type": "stream",
     "text": [
      "[<a class=\"post__title-link js-read-more\" href=\"../blog/20170407-open-data-hk/\" itemprop=\"url\" style=\"border-bottom: 0;\">\n",
      "            繼續閱讀\n",
      "          </a>, <a class=\"post__title-link js-read-more\" href=\"../blog/20170401-data-news/\" itemprop=\"url\" style=\"border-bottom: 0;\">\n",
      "            繼續閱讀\n",
      "          </a>, <a class=\"post__title-link js-read-more\" href=\"../blog/20170329-trump-and-ivanka/\" itemprop=\"url\" style=\"border-bottom: 0;\">\n",
      "            繼續閱讀\n",
      "          </a>, <a class=\"post__title-link js-read-more\" href=\"../blog/20170324-hk-odd/\" itemprop=\"url\" style=\"border-bottom: 0;\">\n",
      "            繼續閱讀\n",
      "          </a>, <a class=\"post__title-link js-read-more\" href=\"../blog/20170315-news-tool/\" itemprop=\"url\" style=\"border-bottom: 0;\">\n",
      "            繼續閱讀\n",
      "          </a>, <a class=\"post__title-link js-read-more\" href=\"../blog/20170312-soma-post/\" itemprop=\"url\" style=\"border-bottom: 0;\">\n",
      "            繼續閱讀\n",
      "          </a>, <a class=\"post__title-link js-read-more\" href=\"../blog/20170222-new-media/\" itemprop=\"url\" style=\"border-bottom: 0;\">\n",
      "            繼續閱讀\n",
      "          </a>, <a class=\"post__title-link js-read-more\" href=\"../blog/20170113-Sharing-With-Friends-Versus-Strangers/\" itemprop=\"url\" style=\"border-bottom: 0;\">\n",
      "            繼續閱讀\n",
      "          </a>, <a class=\"post__title-link js-read-more\" href=\"../blog/20161229-Facebook-App-Download-Conversion/\" itemprop=\"url\" style=\"border-bottom: 0;\">\n",
      "            繼續閱讀\n",
      "          </a>, <a class=\"post__title-link js-read-more\" href=\"../blog/20160908-taipei-power-usage/\" itemprop=\"url\" style=\"border-bottom: 0;\">\n",
      "            繼續閱讀\n",
      "          </a>]\n"
     ]
    }
   ],
   "source": [
    "from bs4 import BeautifulSoup\n",
    "import requests\n",
    "import csv\n",
    "\n",
    "\n",
    "article_urls = []\n",
    "r = requests.get('http://initiumlab.com/blog/').text\n",
    "data = BeautifulSoup(r,\"html.parser\")\n",
    "my_urls = data.find_all('a',attrs={'class':'post__title-link js-read-more'}) #find the links\n",
    "print(my_urls)\n",
    "    \n"
   ]
  },
  {
   "cell_type": "code",
   "execution_count": 13,
   "metadata": {},
   "outputs": [
    {
     "name": "stdout",
     "output_type": "stream",
     "text": [
      "['http://initiumlab.com/blog/20170407-open-data-hk/', 'http://initiumlab.com/blog/20170401-data-news/', 'http://initiumlab.com/blog/20170329-trump-and-ivanka/', 'http://initiumlab.com/blog/20170324-hk-odd/', 'http://initiumlab.com/blog/20170315-news-tool/', 'http://initiumlab.com/blog/20170312-soma-post/', 'http://initiumlab.com/blog/20170222-new-media/', 'http://initiumlab.com/blog/20170113-Sharing-With-Friends-Versus-Strangers/', 'http://initiumlab.com/blog/20161229-Facebook-App-Download-Conversion/', 'http://initiumlab.com/blog/20160908-taipei-power-usage/']\n"
     ]
    }
   ],
   "source": [
    "from bs4 import BeautifulSoup\n",
    "import requests\n",
    "import csv\n",
    "\n",
    "article_urls = []\n",
    "r = requests.get('http://initiumlab.com/blog/').text\n",
    "data = BeautifulSoup(r,\"html.parser\")\n",
    "my_urls = data.find_all('a',attrs={'class':'post__title-link js-read-more'}) #find the links\n",
    "\n",
    "for my_url in my_urls:\n",
    "        url ='{0}{1}'.format('http://initiumlab.com',my_url['href'][2:]) #format urls\n",
    "        #print(url)\n",
    "        article_urls.append(url)\n",
    "\n",
    "print(article_urls)"
   ]
  },
  {
   "cell_type": "code",
   "execution_count": 1,
   "metadata": {},
   "outputs": [
    {
     "data": {
      "text/plain": [
       "'ao'"
      ]
     },
     "execution_count": 1,
     "metadata": {},
     "output_type": "execute_result"
    }
   ],
   "source": [
    "string = 'aoegihaeioghirgh'\n",
    "string[:2]\n"
   ]
  },
  {
   "cell_type": "code",
   "execution_count": null,
   "metadata": {},
   "outputs": [],
   "source": []
  }
 ],
 "metadata": {
  "kernelspec": {
   "display_name": "Python 3",
   "language": "python",
   "name": "python3"
  },
  "language_info": {
   "codemirror_mode": {
    "name": "ipython",
    "version": 3
   },
   "file_extension": ".py",
   "mimetype": "text/x-python",
   "name": "python",
   "nbconvert_exporter": "python",
   "pygments_lexer": "ipython3",
   "version": "3.7.0"
  }
 },
 "nbformat": 4,
 "nbformat_minor": 2
}
