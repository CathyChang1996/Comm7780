{
 "cells": [
  {
   "cell_type": "code",
   "execution_count": 17,
   "metadata": {},
   "outputs": [
    {
     "name": "stdout",
     "output_type": "stream",
     "text": [
      "[('in', 5), ('the', 4), ('it', 4), ('of', 3), ('its', 3), ('for', 3), ('Chinese', 2), ('has', 2), ('a', 2), ('than', 2), ('delivery', 2), ('or', 2), ('Starbucks', 1), ('learned', 1), ('difficulties', 1), ('shifting', 1), ('consumer', 1), ('habits', 1), ('hard', 1), ('way.The', 1), ('coffee', 1), ('chain', 1), ('about', 1), ('3000', 1), ('stores', 1), ('country,', 1), ('making', 1), ('one', 1), ('top', 1), ('markets.', 1), ('But', 1), ('June,', 1), ('company', 1), ('reported', 1), ('sudden', 1), ('slowdown', 1), ('growth', 1), ('China,', 1), ('just', 1), ('weeks', 1), ('after', 1), ('had', 1), ('announced', 1), ('plans', 1), ('rapid', 1), ('expansion', 1), ('there.', 1), (\"That's\", 1), ('partly', 1), ('because', 1), ('faces', 1), ('growing', 1), ('competition', 1), ('from', 1), ('an', 1), ('upstart', 1), ('local', 1), ('competitor.', 1), ('Luckin', 1), ('Coffee', 1), ('opened', 1), ('first', 1), ('store', 1), ('China', 1), ('less', 1), ('year', 1), ('ago.', 1), ('Now', 1), ('more', 1), ('500.', 1), ('Many', 1), ('customers', 1), ('order', 1), ('coffees', 1), ('online', 1), ('takeout.', 1), ('consumers', 1), ('are', 1), ('also', 1), ('increasingly', 1), ('turning', 1), ('to', 1), ('apps,', 1), ('like', 1), ('Meituan', 1), ('Dianping,', 1), ('food', 1), ('drinks.', 1)]\n"
     ]
    }
   ],
   "source": [
    "String = \"Starbucks learned the difficulties of shifting Chinese consumer habits the hard way.The coffee chain has about 3000 stores in the country, making it one of its top markets. But in June, the company reported a sudden slowdown in growth in China, just weeks after it had announced plans for rapid expansion there. That's partly because it faces growing competition from an upstart local competitor. Luckin Coffee opened its first store in China less than a year ago. Now it has more than 500. Many of its customers order coffees online for delivery or takeout. Chinese consumers are also increasingly turning to delivery apps, like Meituan Dianping, for food or drinks.\"\n",
    "\n",
    "str.split(String)\n",
    "list = str.split(String)\n",
    "\n",
    "dict ={}\n",
    "for w in list: \n",
    "    dict[w] =  list.count(w)\n",
    "#print(dict) \n",
    "print(sorted(dict.items(), key=lambda d: d[1], reverse = True))\n"
   ]
  },
  {
   "cell_type": "code",
   "execution_count": 9,
   "metadata": {},
   "outputs": [
    {
     "name": "stdout",
     "output_type": "stream",
     "text": [
      "in\t\t\t\t5\n",
      "the\t\t\t\t4\n",
      "it\t\t\t\t4\n",
      "of\t\t\t\t3\n",
      "its\t\t\t\t3\n",
      "for\t\t\t\t3\n",
      "Chinese\t\t\t\t2\n",
      "has\t\t\t\t2\n",
      "a\t\t\t\t2\n",
      "than\t\t\t\t2\n",
      "delivery\t\t\t\t2\n",
      "or\t\t\t\t2\n",
      "Starbucks\t\t\t\t1\n",
      "learned\t\t\t\t1\n",
      "difficulties\t\t\t\t1\n",
      "shifting\t\t\t\t1\n",
      "consumer\t\t\t\t1\n",
      "habits\t\t\t\t1\n",
      "hard\t\t\t\t1\n",
      "way.The\t\t\t\t1\n",
      "coffee\t\t\t\t1\n",
      "chain\t\t\t\t1\n",
      "about\t\t\t\t1\n",
      "3000\t\t\t\t1\n",
      "stores\t\t\t\t1\n",
      "country,\t\t\t\t1\n",
      "making\t\t\t\t1\n",
      "one\t\t\t\t1\n",
      "top\t\t\t\t1\n",
      "markets.\t\t\t\t1\n",
      "But\t\t\t\t1\n",
      "June,\t\t\t\t1\n",
      "company\t\t\t\t1\n",
      "reported\t\t\t\t1\n",
      "sudden\t\t\t\t1\n",
      "slowdown\t\t\t\t1\n",
      "growth\t\t\t\t1\n",
      "China,\t\t\t\t1\n",
      "just\t\t\t\t1\n",
      "weeks\t\t\t\t1\n",
      "after\t\t\t\t1\n",
      "had\t\t\t\t1\n",
      "announced\t\t\t\t1\n",
      "plans\t\t\t\t1\n",
      "rapid\t\t\t\t1\n",
      "expansion\t\t\t\t1\n",
      "there.\t\t\t\t1\n",
      "That's\t\t\t\t1\n",
      "partly\t\t\t\t1\n",
      "because\t\t\t\t1\n",
      "faces\t\t\t\t1\n",
      "growing\t\t\t\t1\n",
      "competition\t\t\t\t1\n",
      "from\t\t\t\t1\n",
      "an\t\t\t\t1\n",
      "upstart\t\t\t\t1\n",
      "local\t\t\t\t1\n",
      "competitor.\t\t\t\t1\n",
      "Luckin\t\t\t\t1\n",
      "Coffee\t\t\t\t1\n",
      "opened\t\t\t\t1\n",
      "first\t\t\t\t1\n",
      "store\t\t\t\t1\n",
      "China\t\t\t\t1\n",
      "less\t\t\t\t1\n",
      "year\t\t\t\t1\n",
      "ago.\t\t\t\t1\n",
      "Now\t\t\t\t1\n",
      "more\t\t\t\t1\n",
      "500.\t\t\t\t1\n",
      "Many\t\t\t\t1\n",
      "customers\t\t\t\t1\n",
      "order\t\t\t\t1\n",
      "coffees\t\t\t\t1\n",
      "online\t\t\t\t1\n",
      "takeout.\t\t\t\t1\n",
      "consumers\t\t\t\t1\n",
      "are\t\t\t\t1\n",
      "also\t\t\t\t1\n",
      "increasingly\t\t\t\t1\n",
      "turning\t\t\t\t1\n",
      "to\t\t\t\t1\n",
      "apps,\t\t\t\t1\n",
      "like\t\t\t\t1\n",
      "Meituan\t\t\t\t1\n",
      "Dianping,\t\t\t\t1\n",
      "food\t\t\t\t1\n",
      "drinks.\t\t\t\t1\n"
     ]
    }
   ],
   "source": [
    "from collections import Counter\n",
    "String = \"Starbucks learned the difficulties of shifting Chinese consumer habits the hard way.The coffee chain has about 3000 stores in the country, making it one of its top markets. But in June, the company reported a sudden slowdown in growth in China, just weeks after it had announced plans for rapid expansion there. That's partly because it faces growing competition from an upstart local competitor. Luckin Coffee opened its first store in China less than a year ago. Now it has more than 500. Many of its customers order coffees online for delivery or takeout. Chinese consumers are also increasingly turning to delivery apps, like Meituan Dianping, for food or drinks.\"\n",
    "\n",
    "str.split(String)\n",
    "list = str.split(String)\n",
    "\n",
    "cnt = Counter()\n",
    "for word in list:\n",
    "    cnt[word] += 1\n",
    "cnt\n",
    "\n",
    "sort = sorted(cnt.items(), key=lambda d: d[1], reverse = True)\n",
    "\n",
    "for i in sort:\n",
    "    print('{0}\\t\\t\\t\\t{1}'.format(i[0], i[1]))"
   ]
  },
  {
   "cell_type": "code",
   "execution_count": null,
   "metadata": {},
   "outputs": [],
   "source": []
  }
 ],
 "metadata": {
  "kernelspec": {
   "display_name": "Python 3",
   "language": "python",
   "name": "python3"
  },
  "language_info": {
   "codemirror_mode": {
    "name": "ipython",
    "version": 3
   },
   "file_extension": ".py",
   "mimetype": "text/x-python",
   "name": "python",
   "nbconvert_exporter": "python",
   "pygments_lexer": "ipython3",
   "version": "3.7.0"
  }
 },
 "nbformat": 4,
 "nbformat_minor": 2
}
