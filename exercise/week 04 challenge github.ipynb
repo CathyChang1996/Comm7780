{
 "cells": [
  {
   "cell_type": "code",
   "execution_count": 1,
   "metadata": {},
   "outputs": [],
   "source": [
    "import requests\n",
    "import csv\n",
    "r = requests.get('https://api.github.com/repos/hupili/python-for-data-and-media-communication-gitbook/stargazers')\n",
    "r.json\n",
    "data = r.json()\n",
    "\n",
    "with open('github.csv','w',newline='') as f:\n",
    "    writer = csv.writer(f)\n",
    "    header = ['login','repos_url','starred_url']\n",
    "    writer.writerow(header)\n",
    "\n",
    "    for i in range(0,len(data)):\n",
    "        writer.writerow([data[i]['login'], data[i]['repos_url'], data[i]['starred_url']])\n",
    "\n",
    "    f.close()"
   ]
  },
  {
   "cell_type": "code",
   "execution_count": null,
   "metadata": {},
   "outputs": [],
   "source": []
  }
 ],
 "metadata": {
  "kernelspec": {
   "display_name": "Python 3",
   "language": "python",
   "name": "python3"
  },
  "language_info": {
   "codemirror_mode": {
    "name": "ipython",
    "version": 3
   },
   "file_extension": ".py",
   "mimetype": "text/x-python",
   "name": "python",
   "nbconvert_exporter": "python",
   "pygments_lexer": "ipython3",
   "version": "3.7.0"
  }
 },
 "nbformat": 4,
 "nbformat_minor": 2
}
